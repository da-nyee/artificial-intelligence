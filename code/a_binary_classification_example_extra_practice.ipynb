{
 "cells": [
  {
   "cell_type": "code",
   "execution_count": 54,
   "metadata": {},
   "outputs": [],
   "source": [
    "from keras.datasets import imdb\n",
    "\n",
    "(train_data, train_labels), (test_data, test_labels) = imdb.load_data(num_words = 10000)"
   ]
  },
  {
   "cell_type": "code",
   "execution_count": 55,
   "metadata": {},
   "outputs": [
    {
     "data": {
      "text/plain": [
       "1"
      ]
     },
     "execution_count": 55,
     "metadata": {},
     "output_type": "execute_result"
    }
   ],
   "source": [
    "train_labels[0]"
   ]
  },
  {
   "cell_type": "code",
   "execution_count": 56,
   "metadata": {},
   "outputs": [
    {
     "data": {
      "text/plain": [
       "9999"
      ]
     },
     "execution_count": 56,
     "metadata": {},
     "output_type": "execute_result"
    }
   ],
   "source": [
    "max([max(sequence) for sequence in train_data])"
   ]
  },
  {
   "cell_type": "code",
   "execution_count": 57,
   "metadata": {},
   "outputs": [
    {
     "name": "stdout",
     "output_type": "stream",
     "text": [
      "? this film was just brilliant casting location scenery story direction everyone's really suited the part they played and you could just imagine being there robert ? is an amazing actor and now the same being director ? father came from the same scottish island as myself so i loved the fact there was a real connection with this film the witty remarks throughout the film were great it was just brilliant so much that i bought the film as soon as it was released for ? and would recommend it to everyone to watch and the fly fishing was amazing really cried at the end it was so sad and you know what they say if you cry at a film it must have been good and this definitely was also ? to the two little boy's that played the ? of norman and paul they were just brilliant children are often left out of the ? list i think because the stars that play them all grown up are such a big profile for the whole film but these children are amazing and should be praised for what they have done don't you think the whole story was so lovely because it was true and was someone's life after all that was shared with us all\n"
     ]
    }
   ],
   "source": [
    "word_index = imdb.get_word_index()\n",
    "reverse_word_index = dict([(value, key) for (key, value) in word_index.items()])\n",
    "decoded_review = ' '.join([reverse_word_index.get(i-3, '?') for i in train_data[0]])\n",
    "\n",
    "print(decoded_review)"
   ]
  },
  {
   "cell_type": "code",
   "execution_count": 58,
   "metadata": {},
   "outputs": [],
   "source": [
    "import numpy as np\n",
    "\n",
    "def vectorize_sequences(sequences, dimension=10000):\n",
    "    results = np.zeros((len(sequences), dimension))\n",
    "    \n",
    "    for i, sequence in enumerate(sequences):\n",
    "        results[i, sequence] = 1.\n",
    "    \n",
    "    return results\n",
    "\n",
    "x_train = vectorize_sequences(train_data)  # dimension은 default값(10000)으로 들어감\n",
    "x_test = vectorize_sequences(test_data)"
   ]
  },
  {
   "cell_type": "code",
   "execution_count": 59,
   "metadata": {},
   "outputs": [
    {
     "data": {
      "text/plain": [
       "array([0., 1., 1., ..., 0., 0., 0.])"
      ]
     },
     "execution_count": 59,
     "metadata": {},
     "output_type": "execute_result"
    }
   ],
   "source": [
    "x_train[0]"
   ]
  },
  {
   "cell_type": "code",
   "execution_count": 60,
   "metadata": {},
   "outputs": [],
   "source": [
    "y_train = np.asarray(train_labels).astype('float32')\n",
    "y_test = np.asarray(test_labels).astype('float32')"
   ]
  },
  {
   "cell_type": "code",
   "execution_count": 61,
   "metadata": {},
   "outputs": [
    {
     "data": {
      "text/plain": [
       "0.0"
      ]
     },
     "execution_count": 61,
     "metadata": {},
     "output_type": "execute_result"
    }
   ],
   "source": [
    "y_train[1]  # negative"
   ]
  },
  {
   "cell_type": "code",
   "execution_count": 62,
   "metadata": {},
   "outputs": [],
   "source": [
    "from keras import models\n",
    "from keras import layers\n",
    "\n",
    "model = models.Sequential()\n",
    "model.add(layers.Dense(16, activation='relu', input_shape=(10000,)))\n",
    "model.add(layers.Dense(16, activation='relu'))\n",
    "model.add(layers.Dense(1, activation='sigmoid'))"
   ]
  },
  {
   "cell_type": "code",
   "execution_count": 63,
   "metadata": {},
   "outputs": [],
   "source": [
    "model.compile(optimizer='rmsprop',\n",
    "             loss='binary_crossentropy',\n",
    "             metrics=['accuracy'])"
   ]
  },
  {
   "cell_type": "code",
   "execution_count": 81,
   "metadata": {},
   "outputs": [],
   "source": [
    "# 훈련 검증(validation)\n",
    "\n",
    "x_val = x_train[:10000]\n",
    "partial_x_train = x_train[10000:]\n",
    "y_val = y_train[:10000]\n",
    "partial_y_train = y_train[10000:]"
   ]
  },
  {
   "cell_type": "code",
   "execution_count": 82,
   "metadata": {},
   "outputs": [
    {
     "name": "stdout",
     "output_type": "stream",
     "text": [
      "Train on 15000 samples, validate on 10000 samples\n",
      "Epoch 1/20\n",
      "15000/15000 [==============================] - 3s 194us/step - loss: 0.0334 - acc: 0.9889 - val_loss: 0.0401 - val_acc: 0.9901\n",
      "Epoch 2/20\n",
      "15000/15000 [==============================] - 3s 170us/step - loss: 0.0199 - acc: 0.9950 - val_loss: 0.0446 - val_acc: 0.9876\n",
      "Epoch 3/20\n",
      "15000/15000 [==============================] - 3s 178us/step - loss: 0.0142 - acc: 0.9970 - val_loss: 0.0534 - val_acc: 0.9855\n",
      "Epoch 4/20\n",
      "15000/15000 [==============================] - 3s 175us/step - loss: 0.0095 - acc: 0.9980 - val_loss: 0.0589 - val_acc: 0.9834\n",
      "Epoch 5/20\n",
      "15000/15000 [==============================] - 3s 180us/step - loss: 0.0062 - acc: 0.9987 - val_loss: 0.0783 - val_acc: 0.9785\n",
      "Epoch 6/20\n",
      "15000/15000 [==============================] - 3s 173us/step - loss: 0.0040 - acc: 0.9991 - val_loss: 0.0931 - val_acc: 0.9757\n",
      "Epoch 7/20\n",
      "15000/15000 [==============================] - 3s 186us/step - loss: 0.0025 - acc: 0.9995 - val_loss: 0.1230 - val_acc: 0.9675\n",
      "Epoch 8/20\n",
      "15000/15000 [==============================] - 3s 220us/step - loss: 0.0015 - acc: 0.9997 - val_loss: 0.1344 - val_acc: 0.9677\n",
      "Epoch 9/20\n",
      "15000/15000 [==============================] - 3s 182us/step - loss: 8.4592e-04 - acc: 0.9999 - val_loss: 0.1604 - val_acc: 0.9634\n",
      "Epoch 10/20\n",
      "15000/15000 [==============================] - 3s 202us/step - loss: 0.0020 - acc: 0.9994 - val_loss: 0.1852 - val_acc: 0.9608\n",
      "Epoch 11/20\n",
      "15000/15000 [==============================] - 3s 174us/step - loss: 2.9995e-04 - acc: 1.0000 - val_loss: 0.1909 - val_acc: 0.9596\n",
      "Epoch 12/20\n",
      "15000/15000 [==============================] - 3s 181us/step - loss: 2.4278e-04 - acc: 1.0000 - val_loss: 0.2067 - val_acc: 0.9574\n",
      "Epoch 13/20\n",
      "15000/15000 [==============================] - 3s 191us/step - loss: 1.8157e-04 - acc: 1.0000 - val_loss: 0.2281 - val_acc: 0.9560\n",
      "Epoch 14/20\n",
      "15000/15000 [==============================] - 3s 180us/step - loss: 0.0011 - acc: 0.9996 - val_loss: 0.2495 - val_acc: 0.9522\n",
      "Epoch 15/20\n",
      "15000/15000 [==============================] - 3s 189us/step - loss: 8.2143e-05 - acc: 1.0000 - val_loss: 0.2561 - val_acc: 0.9516\n",
      "Epoch 16/20\n",
      "15000/15000 [==============================] - 3s 177us/step - loss: 6.9273e-05 - acc: 1.0000 - val_loss: 0.2677 - val_acc: 0.9509\n",
      "Epoch 17/20\n",
      "15000/15000 [==============================] - 3s 193us/step - loss: 5.4058e-05 - acc: 1.0000 - val_loss: 0.2854 - val_acc: 0.9494\n",
      "Epoch 18/20\n",
      "15000/15000 [==============================] - 3s 196us/step - loss: 3.6473e-05 - acc: 1.0000 - val_loss: 0.3109 - val_acc: 0.9487\n",
      "Epoch 19/20\n",
      "15000/15000 [==============================] - 3s 194us/step - loss: 7.8480e-04 - acc: 0.9997 - val_loss: 0.3394 - val_acc: 0.9453\n",
      "Epoch 20/20\n",
      "15000/15000 [==============================] - 3s 173us/step - loss: 1.5662e-05 - acc: 1.0000 - val_loss: 0.3392 - val_acc: 0.9458\n"
     ]
    }
   ],
   "source": [
    "model.compile(optimizer = 'rmsprop',\n",
    "             loss='binary_crossentropy',\n",
    "             metrics=['acc'])\n",
    "\n",
    "history = model.fit(partial_x_train,\n",
    "                   partial_y_train,\n",
    "                   epochs = 20,\n",
    "                   batch_size = 512,\n",
    "                   validation_data=(x_val, y_val))"
   ]
  },
  {
   "cell_type": "code",
   "execution_count": 83,
   "metadata": {},
   "outputs": [
    {
     "data": {
      "text/plain": [
       "dict_keys(['val_loss', 'val_acc', 'loss', 'acc'])"
      ]
     },
     "execution_count": 83,
     "metadata": {},
     "output_type": "execute_result"
    }
   ],
   "source": [
    "history_dict = history.history\n",
    "history_dict.keys()"
   ]
  },
  {
   "cell_type": "code",
   "execution_count": 84,
   "metadata": {},
   "outputs": [
    {
     "data": {
      "image/png": "[encoded data removed]",
      "text/plain": [
       "<Figure size 432x288 with 1 Axes>"
      ]
     },
     "metadata": {
      "needs_background": "light"
     },
     "output_type": "display_data"
    }
   ],
   "source": [
    "import matplotlib.pyplot as plt\n",
    "\n",
    "history_dict = history.history\n",
    "loss = history_dict['loss']\n",
    "val_loss = history_dict['val_loss']\n",
    "\n",
    "epochs = range(1, len(loss)+1)\n",
    "\n",
    "plt.plot(epochs, loss, 'bo', label='Training loss')\n",
    "plt.plot(epochs, val_loss, 'b', label='Validation loss')\n",
    "plt.title('Training and validation loss')\n",
    "plt.xlabel('Epochs')\n",
    "plt.ylabel('Loss')\n",
    "plt.legend()\n",
    "\n",
    "plt.show()"
   ]
  },
  {
   "cell_type": "code",
   "execution_count": 85,
   "metadata": {},
   "outputs": [
    {
     "data": {
      "image/png": "[encoded data removed]",
      "text/plain": [
       "<Figure size 432x288 with 1 Axes>"
      ]
     },
     "metadata": {
      "needs_background": "light"
     },
     "output_type": "display_data"
    }
   ],
   "source": [
    "plt.clf()\n",
    "\n",
    "acc = history_dict['acc']\n",
    "val_acc = history_dict['val_acc']\n",
    "\n",
    "plt.plot(epochs, acc, 'bo', label='Training acc')\n",
    "plt.plot(epochs, val_acc, 'b', label='Validation acc')\n",
    "plt.title('Training and validation accuracy')\n",
    "plt.xlabel('Epochs')\n",
    "plt.ylabel('Accuracy')\n",
    "plt.legend()\n",
    "\n",
    "plt.show()"
   ]
  },
  {
   "cell_type": "code",
   "execution_count": 86,
   "metadata": {},
   "outputs": [
    {
     "name": "stdout",
     "output_type": "stream",
     "text": [
      "Epoch 1/10\n",
      "25000/25000 [==============================] - 3s 127us/step - loss: 0.3415 - accuracy: 0.8640\n",
      "Epoch 2/10\n",
      "25000/25000 [==============================] - 3s 125us/step - loss: 0.2069 - accuracy: 0.9208\n",
      "Epoch 3/10\n",
      "25000/25000 [==============================] - 3s 124us/step - loss: 0.1678 - accuracy: 0.9355\n",
      "Epoch 4/10\n",
      "25000/25000 [==============================] - 3s 127us/step - loss: 0.1417 - accuracy: 0.9486\n",
      "Epoch 5/10\n",
      "25000/25000 [==============================] - 3s 126us/step - loss: 0.1177 - accuracy: 0.9573\n",
      "Epoch 6/10\n",
      "25000/25000 [==============================] - 3s 127us/step - loss: 0.0977 - accuracy: 0.9650\n",
      "Epoch 7/10\n",
      "25000/25000 [==============================] - 3s 125us/step - loss: 0.0784 - accuracy: 0.9732\n",
      "Epoch 8/10\n",
      "25000/25000 [==============================] - 3s 126us/step - loss: 0.0621 - accuracy: 0.9790\n",
      "Epoch 9/10\n",
      "25000/25000 [==============================] - 3s 124us/step - loss: 0.0468 - accuracy: 0.9850\n",
      "Epoch 10/10\n",
      "25000/25000 [==============================] - 3s 123us/step - loss: 0.0356 - accuracy: 0.9894\n",
      "25000/25000 [==============================] - 3s 125us/step\n"
     ]
    }
   ],
   "source": [
    "# 모델 재훈련\n",
    "\n",
    "model = models.Sequential()\n",
    "model.add(layers.Dense(16, activation='relu', input_shape=(10000,)))\n",
    "model.add(layers.Dense(16, activation='relu'))\n",
    "model.add(layers.Dense(1, activation='sigmoid'))\n",
    "\n",
    "model.compile(optimizer='rmsprop',\n",
    "             loss='binary_crossentropy',\n",
    "             metrics=['accuracy'])\n",
    "\n",
    "model.fit(x_train, y_train, epochs=10, batch_size=100)            # epochs = 4에서 10으로, batch_size = 512에서 100으로 변경\n",
    "results = model.evaluate(x_test, y_test)"
   ]
  },
  {
   "cell_type": "code",
   "execution_count": 87,
   "metadata": {},
   "outputs": [
    {
     "data": {
      "text/plain": [
       "[0.7714953752541542, 0.8546800017356873]"
      ]
     },
     "execution_count": 87,
     "metadata": {},
     "output_type": "execute_result"
    }
   ],
   "source": [
    "results"
   ]
  },
  {
   "cell_type": "code",
   "execution_count": 88,
   "metadata": {},
   "outputs": [
    {
     "data": {
      "text/plain": [
       "array([[0.24075255],\n",
       "       [1.        ],\n",
       "       [0.99999714],\n",
       "       ...,\n",
       "       [0.10805956],\n",
       "       [0.00545931],\n",
       "       [0.9407409 ]], dtype=float32)"
      ]
     },
     "execution_count": 88,
     "metadata": {},
     "output_type": "execute_result"
    }
   ],
   "source": [
    "# 새로운 데이터 예측\n",
    "\n",
    "model.predict(x_test)"
   ]
  },
  {
   "cell_type": "code",
   "execution_count": 89,
   "metadata": {},
   "outputs": [
    {
     "name": "stdout",
     "output_type": "stream",
     "text": [
      "Model: \"sequential_12\"\n",
      "_________________________________________________________________\n",
      "Layer (type)                 Output Shape              Param #   \n",
      "=================================================================\n",
      "dense_34 (Dense)             (None, 16)                160016    \n",
      "_________________________________________________________________\n",
      "dense_35 (Dense)             (None, 16)                272       \n",
      "_________________________________________________________________\n",
      "dense_36 (Dense)             (None, 1)                 17        \n",
      "=================================================================\n",
      "Total params: 160,305\n",
      "Trainable params: 160,305\n",
      "Non-trainable params: 0\n",
      "_________________________________________________________________\n"
     ]
    }
   ],
   "source": [
    "model.summary()"
   ]
  }
 ],
 "metadata": {
  "kernelspec": {
   "display_name": "Python 3",
   "language": "python",
   "name": "python3"
  },
  "language_info": {
   "codemirror_mode": {
    "name": "ipython",
    "version": 3
   },
   "file_extension": ".py",
   "mimetype": "text/x-python",
   "name": "python",
   "nbconvert_exporter": "python",
   "pygments_lexer": "ipython3",
   "version": "3.7.7"
  }
 },
 "nbformat": 4,
 "nbformat_minor": 4
}
