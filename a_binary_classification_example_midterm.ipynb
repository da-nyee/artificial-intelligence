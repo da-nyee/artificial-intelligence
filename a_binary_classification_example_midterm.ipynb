{
 "cells": [
  {
   "cell_type": "code",
   "execution_count": 1,
   "metadata": {},
   "outputs": [
    {
     "name": "stderr",
     "output_type": "stream",
     "text": [
      "Using TensorFlow backend.\n"
     ]
    }
   ],
   "source": [
    "# IMDB 데이터셋 로드\n",
    "\n",
    "from keras.datasets import imdb\n",
    "\n",
    "(train_data, train_labels), (test_data, test_labels) = imdb.load_data(num_words=10000) # train_data에서 자주 나타나는 단어 1만개만 사용"
   ]
  },
  {
   "cell_type": "code",
   "execution_count": 2,
   "metadata": {
    "scrolled": true
   },
   "outputs": [
    {
     "data": {
      "text/plain": [
       "[1,\n",
       " 14,\n",
       " 22,\n",
       " 16,\n",
       " 43,\n",
       " 530,\n",
       " 973,\n",
       " 1622,\n",
       " 1385,\n",
       " 65,\n",
       " 458,\n",
       " 4468,\n",
       " 66,\n",
       " 3941,\n",
       " 4,\n",
       " 173,\n",
       " 36,\n",
       " 256,\n",
       " 5,\n",
       " 25,\n",
       " 100,\n",
       " 43,\n",
       " 838,\n",
       " 112,\n",
       " 50,\n",
       " 670,\n",
       " 2,\n",
       " 9,\n",
       " 35,\n",
       " 480,\n",
       " 284,\n",
       " 5,\n",
       " 150,\n",
       " 4,\n",
       " 172,\n",
       " 112,\n",
       " 167,\n",
       " 2,\n",
       " 336,\n",
       " 385,\n",
       " 39,\n",
       " 4,\n",
       " 172,\n",
       " 4536,\n",
       " 1111,\n",
       " 17,\n",
       " 546,\n",
       " 38,\n",
       " 13,\n",
       " 447,\n",
       " 4,\n",
       " 192,\n",
       " 50,\n",
       " 16,\n",
       " 6,\n",
       " 147,\n",
       " 2025,\n",
       " 19,\n",
       " 14,\n",
       " 22,\n",
       " 4,\n",
       " 1920,\n",
       " 4613,\n",
       " 469,\n",
       " 4,\n",
       " 22,\n",
       " 71,\n",
       " 87,\n",
       " 12,\n",
       " 16,\n",
       " 43,\n",
       " 530,\n",
       " 38,\n",
       " 76,\n",
       " 15,\n",
       " 13,\n",
       " 1247,\n",
       " 4,\n",
       " 22,\n",
       " 17,\n",
       " 515,\n",
       " 17,\n",
       " 12,\n",
       " 16,\n",
       " 626,\n",
       " 18,\n",
       " 2,\n",
       " 5,\n",
       " 62,\n",
       " 386,\n",
       " 12,\n",
       " 8,\n",
       " 316,\n",
       " 8,\n",
       " 106,\n",
       " 5,\n",
       " 4,\n",
       " 2223,\n",
       " 5244,\n",
       " 16,\n",
       " 480,\n",
       " 66,\n",
       " 3785,\n",
       " 33,\n",
       " 4,\n",
       " 130,\n",
       " 12,\n",
       " 16,\n",
       " 38,\n",
       " 619,\n",
       " 5,\n",
       " 25,\n",
       " 124,\n",
       " 51,\n",
       " 36,\n",
       " 135,\n",
       " 48,\n",
       " 25,\n",
       " 1415,\n",
       " 33,\n",
       " 6,\n",
       " 22,\n",
       " 12,\n",
       " 215,\n",
       " 28,\n",
       " 77,\n",
       " 52,\n",
       " 5,\n",
       " 14,\n",
       " 407,\n",
       " 16,\n",
       " 82,\n",
       " 2,\n",
       " 8,\n",
       " 4,\n",
       " 107,\n",
       " 117,\n",
       " 5952,\n",
       " 15,\n",
       " 256,\n",
       " 4,\n",
       " 2,\n",
       " 7,\n",
       " 3766,\n",
       " 5,\n",
       " 723,\n",
       " 36,\n",
       " 71,\n",
       " 43,\n",
       " 530,\n",
       " 476,\n",
       " 26,\n",
       " 400,\n",
       " 317,\n",
       " 46,\n",
       " 7,\n",
       " 4,\n",
       " 2,\n",
       " 1029,\n",
       " 13,\n",
       " 104,\n",
       " 88,\n",
       " 4,\n",
       " 381,\n",
       " 15,\n",
       " 297,\n",
       " 98,\n",
       " 32,\n",
       " 2071,\n",
       " 56,\n",
       " 26,\n",
       " 141,\n",
       " 6,\n",
       " 194,\n",
       " 7486,\n",
       " 18,\n",
       " 4,\n",
       " 226,\n",
       " 22,\n",
       " 21,\n",
       " 134,\n",
       " 476,\n",
       " 26,\n",
       " 480,\n",
       " 5,\n",
       " 144,\n",
       " 30,\n",
       " 5535,\n",
       " 18,\n",
       " 51,\n",
       " 36,\n",
       " 28,\n",
       " 224,\n",
       " 92,\n",
       " 25,\n",
       " 104,\n",
       " 4,\n",
       " 226,\n",
       " 65,\n",
       " 16,\n",
       " 38,\n",
       " 1334,\n",
       " 88,\n",
       " 12,\n",
       " 16,\n",
       " 283,\n",
       " 5,\n",
       " 16,\n",
       " 4472,\n",
       " 113,\n",
       " 103,\n",
       " 32,\n",
       " 15,\n",
       " 16,\n",
       " 5345,\n",
       " 19,\n",
       " 178,\n",
       " 32]"
      ]
     },
     "execution_count": 2,
     "metadata": {},
     "output_type": "execute_result"
    }
   ],
   "source": [
    "train_data[0]"
   ]
  },
  {
   "cell_type": "code",
   "execution_count": 3,
   "metadata": {
    "scrolled": true
   },
   "outputs": [
    {
     "data": {
      "text/plain": [
       "1"
      ]
     },
     "execution_count": 3,
     "metadata": {},
     "output_type": "execute_result"
    }
   ],
   "source": [
    "train_labels[0]"
   ]
  },
  {
   "cell_type": "code",
   "execution_count": 4,
   "metadata": {},
   "outputs": [
    {
     "data": {
      "text/plain": [
       "9999"
      ]
     },
     "execution_count": 4,
     "metadata": {},
     "output_type": "execute_result"
    }
   ],
   "source": [
    "max([max(sequence) for sequence in train_data]) # 최대 단어 index는 9,999"
   ]
  },
  {
   "cell_type": "code",
   "execution_count": 5,
   "metadata": {},
   "outputs": [],
   "source": [
    "# 원래의 영어 단어로 변환\n",
    "\n",
    "word_index = imdb.get_word_index()\n",
    "reverse_word_index = dict([(value, key) for (key, value) in word_index.items()])\n",
    "\n",
    "# 0, 1, 2는 '패딩', '문서 시작', '사전에 없음'을 나타내는 index이므로 3을 뺌\n",
    "# 단어 사전에 없는 경우는 '?'로 대체\n",
    "decoded_review = ' '.join([reverse_word_index.get(i-3, '?') for i in train_data[0]])"
   ]
  },
  {
   "cell_type": "code",
   "execution_count": 6,
   "metadata": {},
   "outputs": [
    {
     "data": {
      "text/plain": [
       "\"? this film was just brilliant casting location scenery story direction everyone's really suited the part they played and you could just imagine being there robert ? is an amazing actor and now the same being director ? father came from the same scottish island as myself so i loved the fact there was a real connection with this film the witty remarks throughout the film were great it was just brilliant so much that i bought the film as soon as it was released for ? and would recommend it to everyone to watch and the fly fishing was amazing really cried at the end it was so sad and you know what they say if you cry at a film it must have been good and this definitely was also ? to the two little boy's that played the ? of norman and paul they were just brilliant children are often left out of the ? list i think because the stars that play them all grown up are such a big profile for the whole film but these children are amazing and should be praised for what they have done don't you think the whole story was so lovely because it was true and was someone's life after all that was shared with us all\""
      ]
     },
     "execution_count": 6,
     "metadata": {},
     "output_type": "execute_result"
    }
   ],
   "source": [
    "decoded_review"
   ]
  },
  {
   "cell_type": "code",
   "execution_count": 7,
   "metadata": {},
   "outputs": [],
   "source": [
    "# integer sequence를 binary matrix로 encoding\n",
    "# one-hot-encoding, list를 tensor로 변환\n",
    "# data 변환\n",
    "\n",
    "import numpy as np\n",
    "\n",
    "def vectorize_sequences(sequences, dimension=10000):\n",
    "    results = np.zeros((len(sequences), dimension))\n",
    "    \n",
    "    for i, sequence in enumerate(sequences):\n",
    "        results[i, sequence] = 1.\n",
    "    \n",
    "    return results\n",
    "\n",
    "vector_train_data = vectorize_sequences(train_data) # train data 25,000개\n",
    "vector_test_data = vectorize_sequences(test_data) # test data 25,000개"
   ]
  },
  {
   "cell_type": "code",
   "execution_count": 8,
   "metadata": {},
   "outputs": [
    {
     "data": {
      "text/plain": [
       "array([0., 1., 1., ..., 0., 0., 0.])"
      ]
     },
     "execution_count": 8,
     "metadata": {},
     "output_type": "execute_result"
    }
   ],
   "source": [
    "vector_train_data[0]"
   ]
  },
  {
   "cell_type": "code",
   "execution_count": 9,
   "metadata": {},
   "outputs": [],
   "source": [
    "# label 변환\n",
    "\n",
    "vector_train_labels = np.asarray(train_labels).astype('float32') # train labels 25,000개\n",
    "vector_test_labels = np.asarray(test_labels).astype('float32') # test labels 25,000개"
   ]
  },
  {
   "cell_type": "code",
   "execution_count": 10,
   "metadata": {},
   "outputs": [],
   "source": [
    "# 신경망 모델 만들기\n",
    "\n",
    "from keras import models\n",
    "from keras import layers\n",
    "\n",
    "def build_model():\n",
    "    model = models.Sequential()\n",
    "\n",
    "    model.add(layers.Dense(16, activation='relu', input_shape=(10000,)))\n",
    "    model.add(layers.Dense(16, activation='relu'))\n",
    "    model.add(layers.Dense(1, activation='sigmoid'))\n",
    "\n",
    "    model.compile(optimizer='rmsprop', loss='binary_crossentropy', metrics=['acc'])\n",
    "    \n",
    "    return model"
   ]
  },
  {
   "cell_type": "code",
   "execution_count": 11,
   "metadata": {},
   "outputs": [],
   "source": [
    "# validation set 준비\n",
    "\n",
    "# train data 25,000개 >>> partial train data 15,000개 + partial test data 10,000개\n",
    "\n",
    "# data\n",
    "partial_train_data = vector_train_data[:15000] # 15,000개\n",
    "partial_test_data = vector_train_data[15000:] # 10,000개\n",
    "\n",
    "# labels\n",
    "partial_train_labels = vector_train_labels[:15000] # 15,000개\n",
    "partial_test_labels = vector_train_labels[15000:] # 10,000개"
   ]
  },
  {
   "cell_type": "markdown",
   "metadata": {},
   "source": [
    "## 3-fold cross validation"
   ]
  },
  {
   "cell_type": "markdown",
   "metadata": {},
   "source": [
    "> partial_train_data 15,000개로 3-fold cross validation (training + validation)<br/>\n",
    "> partial_test_data 10,000개로 evaluate 후 hyperparameters tuning해서 overfitting minimizing (강의 내용 범주 안 구현)<br/>\n",
    "> test_data 25,000개로 최종 evaluate, predict (test)"
   ]
  },
  {
   "cell_type": "code",
   "execution_count": 21,
   "metadata": {},
   "outputs": [
    {
     "name": "stdout",
     "output_type": "stream",
     "text": [
      "processing fold # 0\n",
      "processing fold # 1\n",
      "processing fold # 2\n"
     ]
    }
   ],
   "source": [
    "# 3-fold cross validation\n",
    "\n",
    "k = 3\n",
    "n_val_samples = len(partial_train_data) // k\n",
    "\n",
    "n_epochs = 20\n",
    "\n",
    "loss_scores = []\n",
    "acc_scores = []\n",
    "\n",
    "for i in range(k): # i == 0, 1, 2\n",
    "    print('processing fold #', i)\n",
    "    \n",
    "    # 폴드 검증 데이터\n",
    "    fold_val_data = partial_train_data[i * n_val_samples:(i+1) * n_val_samples]\n",
    "    fold_val_labels = partial_train_labels[i * n_val_samples:(i+1) * n_val_samples]\n",
    "    \n",
    "    # 폴드 훈련 데이터\n",
    "    fold_train_data = np.concatenate([partial_train_data[:i * n_val_samples], partial_train_data[(i+1) * n_val_samples:]], axis=0)\n",
    "    fold_train_labels = np.concatenate([partial_train_labels[:i * n_val_samples], partial_train_labels[(i+1) * n_val_samples:]], axis=0)\n",
    "    \n",
    "    model = build_model() # 모델 정의\n",
    "    \n",
    "    history = model.fit(fold_train_data, # 모델 폴드 훈련\n",
    "                        fold_train_labels,\n",
    "                        epochs=n_epochs,\n",
    "                        batch_size=512,\n",
    "                        verbose=0)\n",
    "    \n",
    "    fold_val_loss, fold_val_acc = model.evaluate(fold_val_data, fold_val_labels, verbose=0)\n",
    "    \n",
    "    loss_scores.append(fold_val_loss)\n",
    "    acc_scores.append(fold_val_acc)"
   ]
  },
  {
   "cell_type": "code",
   "execution_count": 16,
   "metadata": {},
   "outputs": [
    {
     "data": {
      "text/plain": [
       "dict_keys(['val_loss', 'val_acc', 'loss', 'acc'])"
      ]
     },
     "execution_count": 16,
     "metadata": {},
     "output_type": "execute_result"
    }
   ],
   "source": [
    "history_dict = history.history\n",
    "history_dict.keys()"
   ]
  },
  {
   "cell_type": "code",
   "execution_count": 22,
   "metadata": {},
   "outputs": [
    {
     "data": {
      "text/plain": [
       "[0.6350265875339508, 0.6376359125614166, 0.7045293752253056]"
      ]
     },
     "execution_count": 22,
     "metadata": {},
     "output_type": "execute_result"
    }
   ],
   "source": [
    "loss_scores"
   ]
  },
  {
   "cell_type": "code",
   "execution_count": 23,
   "metadata": {},
   "outputs": [
    {
     "data": {
      "text/plain": [
       "[0.8610000014305115, 0.8628000020980835, 0.8614000082015991]"
      ]
     },
     "execution_count": 23,
     "metadata": {},
     "output_type": "execute_result"
    }
   ],
   "source": [
    "acc_scores"
   ]
  },
  {
   "cell_type": "code",
   "execution_count": 24,
   "metadata": {},
   "outputs": [
    {
     "data": {
      "text/plain": [
       "0.6590639584402243"
      ]
     },
     "execution_count": 24,
     "metadata": {},
     "output_type": "execute_result"
    }
   ],
   "source": [
    "np.mean(loss_scores) # 최종 validation loss"
   ]
  },
  {
   "cell_type": "code",
   "execution_count": 25,
   "metadata": {},
   "outputs": [
    {
     "data": {
      "text/plain": [
       "0.8617333372433981"
      ]
     },
     "execution_count": 25,
     "metadata": {},
     "output_type": "execute_result"
    }
   ],
   "source": [
    "np.mean(acc_scores) # 최종 validation accuracy"
   ]
  },
  {
   "cell_type": "markdown",
   "metadata": {},
   "source": [
    "----------------------------------------------------- Still doing ----------------------------------------------------------------"
   ]
  },
  {
   "cell_type": "code",
   "execution_count": 12,
   "metadata": {},
   "outputs": [
    {
     "name": "stdout",
     "output_type": "stream",
     "text": [
      "Train on 15000 samples, validate on 10000 samples\n",
      "Epoch 1/20\n",
      "15000/15000 [==============================] - 3s 197us/step - loss: 0.5231 - acc: 0.7793 - val_loss: 0.3940 - val_acc: 0.8663\n",
      "Epoch 2/20\n",
      "15000/15000 [==============================] - 3s 168us/step - loss: 0.3114 - acc: 0.9010 - val_loss: 0.3131 - val_acc: 0.8823\n",
      "Epoch 3/20\n",
      "15000/15000 [==============================] - 2s 163us/step - loss: 0.2261 - acc: 0.9277 - val_loss: 0.2863 - val_acc: 0.8877\n",
      "Epoch 4/20\n",
      "15000/15000 [==============================] - 3s 180us/step - loss: 0.1811 - acc: 0.9416 - val_loss: 0.2817 - val_acc: 0.8867\n",
      "Epoch 5/20\n",
      "15000/15000 [==============================] - 3s 168us/step - loss: 0.1472 - acc: 0.9513 - val_loss: 0.2956 - val_acc: 0.8833\n",
      "Epoch 6/20\n",
      "15000/15000 [==============================] - 3s 167us/step - loss: 0.1203 - acc: 0.9629 - val_loss: 0.3178 - val_acc: 0.8801\n",
      "Epoch 7/20\n",
      "15000/15000 [==============================] - 2s 164us/step - loss: 0.1009 - acc: 0.9708 - val_loss: 0.3116 - val_acc: 0.8842\n",
      "Epoch 8/20\n",
      "15000/15000 [==============================] - 3s 169us/step - loss: 0.0809 - acc: 0.9784 - val_loss: 0.3402 - val_acc: 0.8771\n",
      "Epoch 9/20\n",
      "15000/15000 [==============================] - 3s 169us/step - loss: 0.0684 - acc: 0.9818 - val_loss: 0.3549 - val_acc: 0.8796\n",
      "Epoch 10/20\n",
      "15000/15000 [==============================] - 2s 161us/step - loss: 0.0562 - acc: 0.9861 - val_loss: 0.4137 - val_acc: 0.8712\n",
      "Epoch 11/20\n",
      "15000/15000 [==============================] - 2s 165us/step - loss: 0.0459 - acc: 0.9901 - val_loss: 0.4053 - val_acc: 0.8726\n",
      "Epoch 12/20\n",
      "15000/15000 [==============================] - 2s 161us/step - loss: 0.0383 - acc: 0.9913 - val_loss: 0.4269 - val_acc: 0.8754\n",
      "Epoch 13/20\n",
      "15000/15000 [==============================] - 3s 185us/step - loss: 0.0316 - acc: 0.9931 - val_loss: 0.4583 - val_acc: 0.8744\n",
      "Epoch 14/20\n",
      "15000/15000 [==============================] - 2s 166us/step - loss: 0.0232 - acc: 0.9965 - val_loss: 0.5502 - val_acc: 0.8655\n",
      "Epoch 15/20\n",
      "15000/15000 [==============================] - 3s 169us/step - loss: 0.0205 - acc: 0.9963 - val_loss: 0.5217 - val_acc: 0.8725\n",
      "Epoch 16/20\n",
      "15000/15000 [==============================] - 3s 172us/step - loss: 0.0130 - acc: 0.9987 - val_loss: 0.5892 - val_acc: 0.8685\n",
      "Epoch 17/20\n",
      "15000/15000 [==============================] - 3s 176us/step - loss: 0.0146 - acc: 0.9975 - val_loss: 0.5910 - val_acc: 0.8642\n",
      "Epoch 18/20\n",
      "15000/15000 [==============================] - 2s 166us/step - loss: 0.0100 - acc: 0.9986 - val_loss: 0.6192 - val_acc: 0.8684\n",
      "Epoch 19/20\n",
      "15000/15000 [==============================] - 3s 169us/step - loss: 0.0084 - acc: 0.9985 - val_loss: 0.6469 - val_acc: 0.8680\n",
      "Epoch 20/20\n",
      "15000/15000 [==============================] - 2s 166us/step - loss: 0.0043 - acc: 0.9998 - val_loss: 0.6893 - val_acc: 0.8676\n"
     ]
    }
   ],
   "source": [
    "# 모델 훈련\n",
    "\n",
    "history = model.fit(partial_x_train,\n",
    "                   partial_y_train,\n",
    "                   epochs=20,\n",
    "                   batch_size=512,\n",
    "                   validation_data=(x_val, y_val))"
   ]
  },
  {
   "cell_type": "code",
   "execution_count": 13,
   "metadata": {},
   "outputs": [
    {
     "data": {
      "text/plain": [
       "dict_keys(['val_loss', 'val_acc', 'loss', 'acc'])"
      ]
     },
     "execution_count": 13,
     "metadata": {},
     "output_type": "execute_result"
    }
   ],
   "source": [
    "history_dict = history.history\n",
    "history_dict.keys()"
   ]
  },
  {
   "cell_type": "code",
   "execution_count": 14,
   "metadata": {},
   "outputs": [
    {
     "data": {
      "image/png": "[encoded data removed]",
      "text/plain": [
       "<Figure size 432x288 with 1 Axes>"
      ]
     },
     "metadata": {
      "needs_background": "light"
     },
     "output_type": "display_data"
    }
   ],
   "source": [
    "# training, validation loss 그리기\n",
    "\n",
    "import matplotlib.pyplot as plt\n",
    "\n",
    "loss = history_dict['loss']\n",
    "val_loss = history_dict['val_loss']\n",
    "\n",
    "epochs = range(1, len(loss)+1)\n",
    "\n",
    "plt.plot(epochs, loss, 'bo', label='Training loss')\n",
    "plt.plot(epochs, val_loss, 'b', label='Validation loss')\n",
    "plt.title('Training and validation loss')\n",
    "plt.xlabel('Epochs')\n",
    "plt.ylabel('Loss')\n",
    "plt.legend()\n",
    "\n",
    "plt.show()"
   ]
  },
  {
   "cell_type": "code",
   "execution_count": 15,
   "metadata": {},
   "outputs": [
    {
     "data": {
      "image/png": "[encoded data removed]",
      "text/plain": [
       "<Figure size 432x288 with 1 Axes>"
      ]
     },
     "metadata": {
      "needs_background": "light"
     },
     "output_type": "display_data"
    }
   ],
   "source": [
    "# training, validation accuracy 그리기\n",
    "\n",
    "plt.clf() # 그래프 초기화\n",
    "\n",
    "acc = history_dict['acc']\n",
    "val_acc = history_dict['val_acc']\n",
    "\n",
    "plt.plot(epochs, acc, 'bo', label='Training acc')\n",
    "plt.plot(epochs, val_acc, 'b', label='Validation acc')\n",
    "plt.title('Training and validation accuracy')\n",
    "plt.xlabel('Epochs')\n",
    "plt.ylabel('Accuracy')\n",
    "plt.legend()\n",
    "\n",
    "plt.show()"
   ]
  },
  {
   "cell_type": "code",
   "execution_count": 16,
   "metadata": {},
   "outputs": [
    {
     "name": "stdout",
     "output_type": "stream",
     "text": [
      "Epoch 1/4\n",
      "25000/25000 [==============================] - 3s 111us/step - loss: 0.4602 - accuracy: 0.8251\n",
      "Epoch 2/4\n",
      "25000/25000 [==============================] - 3s 111us/step - loss: 0.2676 - accuracy: 0.9096\n",
      "Epoch 3/4\n",
      "25000/25000 [==============================] - 3s 109us/step - loss: 0.2043 - accuracy: 0.9289\n",
      "Epoch 4/4\n",
      "25000/25000 [==============================] - 3s 114us/step - loss: 0.1700 - accuracy: 0.9399\n",
      "25000/25000 [==============================] - 4s 146us/step\n"
     ]
    }
   ],
   "source": [
    "# 모델 재훈련\n",
    "\n",
    "model = models.Sequential()\n",
    "model.add(layers.Dense(16, activation='relu', input_shape=(10000,)))\n",
    "model.add(layers.Dense(16, activation='relu'))\n",
    "model.add(layers.Dense(1, activation='sigmoid'))\n",
    "\n",
    "model.compile(optimizer='rmsprop',\n",
    "             loss='binary_crossentropy',\n",
    "             metrics=['accuracy'])\n",
    "\n",
    "model.fit(x_train, y_train, epochs=4, batch_size=512)\n",
    "\n",
    "results = model.evaluate(vector_test_data, vector_test_labels) # test data로 평가"
   ]
  },
  {
   "cell_type": "code",
   "execution_count": 17,
   "metadata": {},
   "outputs": [
    {
     "data": {
      "text/plain": [
       "[0.3018812312412262, 0.8814799785614014]"
      ]
     },
     "execution_count": 17,
     "metadata": {},
     "output_type": "execute_result"
    }
   ],
   "source": [
    "# 최종 결과 확인\n",
    "\n",
    "results"
   ]
  },
  {
   "cell_type": "code",
   "execution_count": 18,
   "metadata": {},
   "outputs": [
    {
     "data": {
      "text/plain": [
       "array([[0.16196543],\n",
       "       [0.9999101 ],\n",
       "       [0.805817  ],\n",
       "       ...,\n",
       "       [0.09962112],\n",
       "       [0.05827034],\n",
       "       [0.5565213 ]], dtype=float32)"
      ]
     },
     "execution_count": 18,
     "metadata": {},
     "output_type": "execute_result"
    }
   ],
   "source": [
    "# 새로운 데이터 예측\n",
    "\n",
    "model.predict(vector_test_data)"
   ]
  }
 ],
 "metadata": {
  "kernelspec": {
   "display_name": "Python 3",
   "language": "python",
   "name": "python3"
  },
  "language_info": {
   "codemirror_mode": {
    "name": "ipython",
    "version": 3
   },
   "file_extension": ".py",
   "mimetype": "text/x-python",
   "name": "python",
   "nbconvert_exporter": "python",
   "pygments_lexer": "ipython3",
   "version": "3.7.7"
  }
 },
 "nbformat": 4,
 "nbformat_minor": 4
}
